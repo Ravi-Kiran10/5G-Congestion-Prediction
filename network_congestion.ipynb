{
 "cells": [
  {
   "cell_type": "code",
   "execution_count": 2,
   "id": "68a244b5-68c0-452b-8385-33549df50669",
   "metadata": {},
   "outputs": [
    {
     "data": {
      "text/html": [
       "<div>\n",
       "<style scoped>\n",
       "    .dataframe tbody tr th:only-of-type {\n",
       "        vertical-align: middle;\n",
       "    }\n",
       "\n",
       "    .dataframe tbody tr th {\n",
       "        vertical-align: top;\n",
       "    }\n",
       "\n",
       "    .dataframe thead th {\n",
       "        text-align: right;\n",
       "    }\n",
       "</style>\n",
       "<table border=\"1\" class=\"dataframe\">\n",
       "  <thead>\n",
       "    <tr style=\"text-align: right;\">\n",
       "      <th></th>\n",
       "      <th>No.</th>\n",
       "      <th>Time</th>\n",
       "      <th>Source</th>\n",
       "      <th>Destination</th>\n",
       "      <th>Protocol</th>\n",
       "      <th>Length</th>\n",
       "      <th>Info</th>\n",
       "    </tr>\n",
       "  </thead>\n",
       "  <tbody>\n",
       "    <tr>\n",
       "      <th>0</th>\n",
       "      <td>10</td>\n",
       "      <td>20:09:07.212252400</td>\n",
       "      <td>192.168.0.19</td>\n",
       "      <td>192.168.0.12</td>\n",
       "      <td>HTTP2</td>\n",
       "      <td>132</td>\n",
       "      <td>HEADERS[207959]</td>\n",
       "    </tr>\n",
       "    <tr>\n",
       "      <th>1</th>\n",
       "      <td>11</td>\n",
       "      <td>20:09:07.212252500</td>\n",
       "      <td>192.168.0.19</td>\n",
       "      <td>192.168.0.12</td>\n",
       "      <td>HTTP2</td>\n",
       "      <td>147</td>\n",
       "      <td>DATA[207959]</td>\n",
       "    </tr>\n",
       "    <tr>\n",
       "      <th>2</th>\n",
       "      <td>12</td>\n",
       "      <td>20:09:07.212750800</td>\n",
       "      <td>192.168.0.12</td>\n",
       "      <td>192.168.0.19</td>\n",
       "      <td>TCP</td>\n",
       "      <td>66</td>\n",
       "      <td>7777  &gt;  54126 [ACK] Seq=1 Ack=148 Win=501 Len...</td>\n",
       "    </tr>\n",
       "    <tr>\n",
       "      <th>3</th>\n",
       "      <td>13</td>\n",
       "      <td>20:09:07.212750800</td>\n",
       "      <td>192.168.0.12</td>\n",
       "      <td>192.168.0.19</td>\n",
       "      <td>HTTP2</td>\n",
       "      <td>101</td>\n",
       "      <td>HEADERS[207959]: 204 No Content</td>\n",
       "    </tr>\n",
       "    <tr>\n",
       "      <th>4</th>\n",
       "      <td>14</td>\n",
       "      <td>20:09:07.212948900</td>\n",
       "      <td>192.168.0.19</td>\n",
       "      <td>192.168.0.12</td>\n",
       "      <td>TCP</td>\n",
       "      <td>66</td>\n",
       "      <td>54126  &gt;  7777 [ACK] Seq=148 Ack=36 Win=501 Le...</td>\n",
       "    </tr>\n",
       "  </tbody>\n",
       "</table>\n",
       "</div>"
      ],
      "text/plain": [
       "   No.                Time        Source   Destination Protocol  Length  \\\n",
       "0   10  20:09:07.212252400  192.168.0.19  192.168.0.12    HTTP2     132   \n",
       "1   11  20:09:07.212252500  192.168.0.19  192.168.0.12    HTTP2     147   \n",
       "2   12  20:09:07.212750800  192.168.0.12  192.168.0.19      TCP      66   \n",
       "3   13  20:09:07.212750800  192.168.0.12  192.168.0.19    HTTP2     101   \n",
       "4   14  20:09:07.212948900  192.168.0.19  192.168.0.12      TCP      66   \n",
       "\n",
       "                                                Info  \n",
       "0                                    HEADERS[207959]  \n",
       "1                                       DATA[207959]  \n",
       "2  7777  >  54126 [ACK] Seq=1 Ack=148 Win=501 Len...  \n",
       "3                    HEADERS[207959]: 204 No Content  \n",
       "4  54126  >  7777 [ACK] Seq=148 Ack=36 Win=501 Le...  "
      ]
     },
     "execution_count": 2,
     "metadata": {},
     "output_type": "execute_result"
    }
   ],
   "source": [
    "import pandas as pd\n",
    "\n",
    "# Replace 'path_to_your_file.csv' with the actual dataset file path\n",
    "df = pd.read_csv(\"Dataset2.csv\")\n",
    "\n",
    "# Display first five rows\n",
    "df.head()\n"
   ]
  },
  {
   "cell_type": "code",
   "execution_count": 3,
   "id": "c2aa4299-f2f5-4c9d-90e9-ab4d64e93c03",
   "metadata": {},
   "outputs": [
    {
     "name": "stdout",
     "output_type": "stream",
     "text": [
      "<class 'pandas.core.frame.DataFrame'>\n",
      "RangeIndex: 52185 entries, 0 to 52184\n",
      "Data columns (total 7 columns):\n",
      " #   Column       Non-Null Count  Dtype \n",
      "---  ------       --------------  ----- \n",
      " 0   No.          52185 non-null  int64 \n",
      " 1   Time         52185 non-null  object\n",
      " 2   Source       52185 non-null  object\n",
      " 3   Destination  52185 non-null  object\n",
      " 4   Protocol     52185 non-null  object\n",
      " 5   Length       52185 non-null  int64 \n",
      " 6   Info         52185 non-null  object\n",
      "dtypes: int64(2), object(5)\n",
      "memory usage: 2.8+ MB\n"
     ]
    }
   ],
   "source": [
    "# Get dataset summary\n",
    "df.info()\n"
   ]
  },
  {
   "cell_type": "code",
   "execution_count": 4,
   "id": "ef76f71b-08d5-4946-a508-5171a1de2a46",
   "metadata": {},
   "outputs": [
    {
     "data": {
      "text/html": [
       "<div>\n",
       "<style scoped>\n",
       "    .dataframe tbody tr th:only-of-type {\n",
       "        vertical-align: middle;\n",
       "    }\n",
       "\n",
       "    .dataframe tbody tr th {\n",
       "        vertical-align: top;\n",
       "    }\n",
       "\n",
       "    .dataframe thead th {\n",
       "        text-align: right;\n",
       "    }\n",
       "</style>\n",
       "<table border=\"1\" class=\"dataframe\">\n",
       "  <thead>\n",
       "    <tr style=\"text-align: right;\">\n",
       "      <th></th>\n",
       "      <th>No.</th>\n",
       "      <th>Length</th>\n",
       "    </tr>\n",
       "  </thead>\n",
       "  <tbody>\n",
       "    <tr>\n",
       "      <th>count</th>\n",
       "      <td>52185.000000</td>\n",
       "      <td>52185.000000</td>\n",
       "    </tr>\n",
       "    <tr>\n",
       "      <th>mean</th>\n",
       "      <td>33722.726435</td>\n",
       "      <td>180.026540</td>\n",
       "    </tr>\n",
       "    <tr>\n",
       "      <th>std</th>\n",
       "      <td>18968.770167</td>\n",
       "      <td>476.105341</td>\n",
       "    </tr>\n",
       "    <tr>\n",
       "      <th>min</th>\n",
       "      <td>10.000000</td>\n",
       "      <td>54.000000</td>\n",
       "    </tr>\n",
       "    <tr>\n",
       "      <th>25%</th>\n",
       "      <td>17414.000000</td>\n",
       "      <td>59.000000</td>\n",
       "    </tr>\n",
       "    <tr>\n",
       "      <th>50%</th>\n",
       "      <td>34130.000000</td>\n",
       "      <td>67.000000</td>\n",
       "    </tr>\n",
       "    <tr>\n",
       "      <th>75%</th>\n",
       "      <td>50223.000000</td>\n",
       "      <td>110.000000</td>\n",
       "    </tr>\n",
       "    <tr>\n",
       "      <th>max</th>\n",
       "      <td>65842.000000</td>\n",
       "      <td>6806.000000</td>\n",
       "    </tr>\n",
       "  </tbody>\n",
       "</table>\n",
       "</div>"
      ],
      "text/plain": [
       "                No.        Length\n",
       "count  52185.000000  52185.000000\n",
       "mean   33722.726435    180.026540\n",
       "std    18968.770167    476.105341\n",
       "min       10.000000     54.000000\n",
       "25%    17414.000000     59.000000\n",
       "50%    34130.000000     67.000000\n",
       "75%    50223.000000    110.000000\n",
       "max    65842.000000   6806.000000"
      ]
     },
     "execution_count": 4,
     "metadata": {},
     "output_type": "execute_result"
    }
   ],
   "source": [
    "# Get statistical summary\n",
    "df.describe()\n"
   ]
  },
  {
   "cell_type": "code",
   "execution_count": 5,
   "id": "799d2b3e-c6dd-45b9-ba62-9c174f41e35a",
   "metadata": {},
   "outputs": [
    {
     "data": {
      "text/plain": [
       "No.            0\n",
       "Time           0\n",
       "Source         0\n",
       "Destination    0\n",
       "Protocol       0\n",
       "Length         0\n",
       "Info           0\n",
       "dtype: int64"
      ]
     },
     "execution_count": 5,
     "metadata": {},
     "output_type": "execute_result"
    }
   ],
   "source": [
    "# Count missing values per column\n",
    "df.isnull().sum()\n"
   ]
  },
  {
   "cell_type": "code",
   "execution_count": 6,
   "id": "9860e6b8-0a30-4dbf-9bc1-b9bfe0f045dd",
   "metadata": {},
   "outputs": [
    {
     "name": "stderr",
     "output_type": "stream",
     "text": [
      "C:\\Users\\Shiva\\AppData\\Local\\Temp\\ipykernel_26772\\1085215439.py:2: UserWarning: Could not infer format, so each element will be parsed individually, falling back to `dateutil`. To ensure parsing is consistent and as-expected, please specify a format.\n",
      "  df['Time'] = pd.to_datetime(df['Time'])\n"
     ]
    },
    {
     "data": {
      "text/html": [
       "<div>\n",
       "<style scoped>\n",
       "    .dataframe tbody tr th:only-of-type {\n",
       "        vertical-align: middle;\n",
       "    }\n",
       "\n",
       "    .dataframe tbody tr th {\n",
       "        vertical-align: top;\n",
       "    }\n",
       "\n",
       "    .dataframe thead th {\n",
       "        text-align: right;\n",
       "    }\n",
       "</style>\n",
       "<table border=\"1\" class=\"dataframe\">\n",
       "  <thead>\n",
       "    <tr style=\"text-align: right;\">\n",
       "      <th></th>\n",
       "      <th>No.</th>\n",
       "      <th>Time</th>\n",
       "      <th>Source</th>\n",
       "      <th>Destination</th>\n",
       "      <th>Protocol</th>\n",
       "      <th>Length</th>\n",
       "      <th>Info</th>\n",
       "      <th>Packet_Rate</th>\n",
       "      <th>Throughput</th>\n",
       "      <th>Congestion</th>\n",
       "    </tr>\n",
       "  </thead>\n",
       "  <tbody>\n",
       "    <tr>\n",
       "      <th>0</th>\n",
       "      <td>10</td>\n",
       "      <td>2025-02-03 20:09:07.212252</td>\n",
       "      <td>192.168.0.19</td>\n",
       "      <td>192.168.0.12</td>\n",
       "      <td>HTTP2</td>\n",
       "      <td>132</td>\n",
       "      <td>HEADERS[207959]</td>\n",
       "      <td>1264</td>\n",
       "      <td>352385</td>\n",
       "      <td>1</td>\n",
       "    </tr>\n",
       "    <tr>\n",
       "      <th>1</th>\n",
       "      <td>11</td>\n",
       "      <td>2025-02-03 20:09:07.212252</td>\n",
       "      <td>192.168.0.19</td>\n",
       "      <td>192.168.0.12</td>\n",
       "      <td>HTTP2</td>\n",
       "      <td>147</td>\n",
       "      <td>DATA[207959]</td>\n",
       "      <td>1264</td>\n",
       "      <td>352385</td>\n",
       "      <td>1</td>\n",
       "    </tr>\n",
       "    <tr>\n",
       "      <th>2</th>\n",
       "      <td>12</td>\n",
       "      <td>2025-02-03 20:09:07.212750</td>\n",
       "      <td>192.168.0.12</td>\n",
       "      <td>192.168.0.19</td>\n",
       "      <td>TCP</td>\n",
       "      <td>66</td>\n",
       "      <td>7777  &gt;  54126 [ACK] Seq=1 Ack=148 Win=501 Len...</td>\n",
       "      <td>1264</td>\n",
       "      <td>352385</td>\n",
       "      <td>1</td>\n",
       "    </tr>\n",
       "    <tr>\n",
       "      <th>3</th>\n",
       "      <td>13</td>\n",
       "      <td>2025-02-03 20:09:07.212750</td>\n",
       "      <td>192.168.0.12</td>\n",
       "      <td>192.168.0.19</td>\n",
       "      <td>HTTP2</td>\n",
       "      <td>101</td>\n",
       "      <td>HEADERS[207959]: 204 No Content</td>\n",
       "      <td>1264</td>\n",
       "      <td>352385</td>\n",
       "      <td>1</td>\n",
       "    </tr>\n",
       "    <tr>\n",
       "      <th>4</th>\n",
       "      <td>14</td>\n",
       "      <td>2025-02-03 20:09:07.212948</td>\n",
       "      <td>192.168.0.19</td>\n",
       "      <td>192.168.0.12</td>\n",
       "      <td>TCP</td>\n",
       "      <td>66</td>\n",
       "      <td>54126  &gt;  7777 [ACK] Seq=148 Ack=36 Win=501 Le...</td>\n",
       "      <td>1264</td>\n",
       "      <td>352385</td>\n",
       "      <td>1</td>\n",
       "    </tr>\n",
       "  </tbody>\n",
       "</table>\n",
       "</div>"
      ],
      "text/plain": [
       "   No.                       Time        Source   Destination Protocol  \\\n",
       "0   10 2025-02-03 20:09:07.212252  192.168.0.19  192.168.0.12    HTTP2   \n",
       "1   11 2025-02-03 20:09:07.212252  192.168.0.19  192.168.0.12    HTTP2   \n",
       "2   12 2025-02-03 20:09:07.212750  192.168.0.12  192.168.0.19      TCP   \n",
       "3   13 2025-02-03 20:09:07.212750  192.168.0.12  192.168.0.19    HTTP2   \n",
       "4   14 2025-02-03 20:09:07.212948  192.168.0.19  192.168.0.12      TCP   \n",
       "\n",
       "   Length                                               Info  Packet_Rate  \\\n",
       "0     132                                    HEADERS[207959]         1264   \n",
       "1     147                                       DATA[207959]         1264   \n",
       "2      66  7777  >  54126 [ACK] Seq=1 Ack=148 Win=501 Len...         1264   \n",
       "3     101                    HEADERS[207959]: 204 No Content         1264   \n",
       "4      66  54126  >  7777 [ACK] Seq=148 Ack=36 Win=501 Le...         1264   \n",
       "\n",
       "   Throughput  Congestion  \n",
       "0      352385           1  \n",
       "1      352385           1  \n",
       "2      352385           1  \n",
       "3      352385           1  \n",
       "4      352385           1  "
      ]
     },
     "execution_count": 6,
     "metadata": {},
     "output_type": "execute_result"
    }
   ],
   "source": [
    "# Convert time to datetime format\n",
    "df['Time'] = pd.to_datetime(df['Time'])\n",
    "\n",
    "# Calculate packet rate (packets per second)\n",
    "df['Packet_Rate'] = df.groupby(df['Time'].dt.second)['Length'].transform('count')\n",
    "\n",
    "# Calculate throughput (sum of packet sizes per second)\n",
    "df['Throughput'] = df.groupby(df['Time'].dt.second)['Length'].transform('sum')\n",
    "\n",
    "# Define congestion threshold (adjust based on dataset characteristics)\n",
    "packet_threshold = df['Packet_Rate'].quantile(0.75)  # Upper quartile\n",
    "throughput_threshold = df['Throughput'].quantile(0.75)\n",
    "\n",
    "# Create congestion label (1 = Congested, 0 = Normal)\n",
    "df['Congestion'] = ((df['Packet_Rate'] > packet_threshold) & \n",
    "                    (df['Throughput'] > throughput_threshold)).astype(int)\n",
    "\n",
    "# Display updated dataset\n",
    "df.head()\n"
   ]
  },
  {
   "cell_type": "code",
   "execution_count": 8,
   "id": "792a7799-cfe2-46ec-a1a8-d2bd2f688f59",
   "metadata": {},
   "outputs": [
    {
     "data": {
      "text/plain": [
       "((41748, 3), (10437, 3))"
      ]
     },
     "execution_count": 8,
     "metadata": {},
     "output_type": "execute_result"
    }
   ],
   "source": [
    "from sklearn.model_selection import train_test_split\n",
    "\n",
    "# Selecting features and target variable\n",
    "X = df[['Packet_Rate', 'Throughput', 'Length']]  # Input features\n",
    "y = df['Congestion']  # Target variable\n",
    "\n",
    "# Splitting into training (80%) and testing (20%) datasets\n",
    "X_train, X_test, y_train, y_test = train_test_split(X, y, test_size=0.2, random_state=42)\n",
    "\n",
    "# Display dataset sizes\n",
    "X_train.shape, X_test.shape\n"
   ]
  },
  {
   "cell_type": "code",
   "execution_count": 10,
   "id": "27d0908a-428d-4d66-80b9-41fda42089da",
   "metadata": {},
   "outputs": [
    {
     "name": "stdout",
     "output_type": "stream",
     "text": [
      "Model Training Completed ✅\n"
     ]
    }
   ],
   "source": [
    "from sklearn.ensemble import RandomForestClassifier\n",
    "\n",
    "# Initialize the model\n",
    "rf_model = RandomForestClassifier(n_estimators=100, random_state=42)\n",
    "\n",
    "# Train the model\n",
    "rf_model.fit(X_train, y_train)\n",
    "\n",
    "# Model training complete\n",
    "print(\"Model Training Completed ✅\")\n"
   ]
  },
  {
   "cell_type": "code",
   "execution_count": 11,
   "id": "2ca3081b-734d-4013-b0d4-93704b4ace74",
   "metadata": {},
   "outputs": [
    {
     "name": "stdout",
     "output_type": "stream",
     "text": [
      "Model Accuracy: 100.00%\n",
      "\n",
      "Classification Report:\n",
      "               precision    recall  f1-score   support\n",
      "\n",
      "           0       1.00      1.00      1.00      8086\n",
      "           1       1.00      1.00      1.00      2351\n",
      "\n",
      "    accuracy                           1.00     10437\n",
      "   macro avg       1.00      1.00      1.00     10437\n",
      "weighted avg       1.00      1.00      1.00     10437\n",
      "\n",
      "\n",
      "Confusion Matrix:\n",
      " [[8086    0]\n",
      " [   0 2351]]\n"
     ]
    }
   ],
   "source": [
    "from sklearn.metrics import accuracy_score, classification_report, confusion_matrix\n",
    "\n",
    "# Make predictions on test data\n",
    "y_pred = rf_model.predict(X_test)\n",
    "\n",
    "# Evaluate accuracy\n",
    "accuracy = accuracy_score(y_test, y_pred)\n",
    "print(f\"Model Accuracy: {accuracy * 100:.2f}%\")\n",
    "\n",
    "# Display classification report\n",
    "print(\"\\nClassification Report:\\n\", classification_report(y_test, y_pred))\n",
    "\n",
    "# Display confusion matrix\n",
    "print(\"\\nConfusion Matrix:\\n\", confusion_matrix(y_test, y_pred))\n"
   ]
  },
  {
   "cell_type": "code",
   "execution_count": 13,
   "id": "ec49cdb0-cf86-49ae-b8d5-38a1cf7b1fec",
   "metadata": {},
   "outputs": [
    {
     "name": "stdout",
     "output_type": "stream",
     "text": [
      "Model saved successfully as congestion_model.pkl ✅\n"
     ]
    }
   ],
   "source": [
    "import pickle\n",
    "from sklearn.ensemble import RandomForestClassifier\n",
    "\n",
    "# Train the model again (if not already trained)\n",
    "rf_model = RandomForestClassifier(n_estimators=100, random_state=42)\n",
    "rf_model.fit(X_train, y_train)\n",
    "\n",
    "# Save the trained model to a file\n",
    "with open(\"congestion_model.pkl\", \"wb\") as f:\n",
    "    pickle.dump(rf_model, f)\n",
    "\n",
    "print(\"Model saved successfully as congestion_model.pkl ✅\")\n"
   ]
  },
  {
   "cell_type": "code",
   "execution_count": 14,
   "id": "3db8dc9e-d24d-4a76-86a7-58df22cf464d",
   "metadata": {},
   "outputs": [
    {
     "name": "stdout",
     "output_type": "stream",
     "text": [
      "Requirement already satisfied: matplotlib in c:\\users\\shiva\\appdata\\local\\programs\\python\\python313\\lib\\site-packages (3.9.3)\n",
      "Requirement already satisfied: pandas in c:\\users\\shiva\\appdata\\local\\programs\\python\\python313\\lib\\site-packages (2.2.3)\n",
      "Requirement already satisfied: contourpy>=1.0.1 in c:\\users\\shiva\\appdata\\local\\programs\\python\\python313\\lib\\site-packages (from matplotlib) (1.3.1)\n",
      "Requirement already satisfied: cycler>=0.10 in c:\\users\\shiva\\appdata\\local\\programs\\python\\python313\\lib\\site-packages (from matplotlib) (0.12.1)\n",
      "Requirement already satisfied: fonttools>=4.22.0 in c:\\users\\shiva\\appdata\\local\\programs\\python\\python313\\lib\\site-packages (from matplotlib) (4.55.0)\n",
      "Requirement already satisfied: kiwisolver>=1.3.1 in c:\\users\\shiva\\appdata\\local\\programs\\python\\python313\\lib\\site-packages (from matplotlib) (1.4.7)\n",
      "Requirement already satisfied: numpy>=1.23 in c:\\users\\shiva\\appdata\\local\\programs\\python\\python313\\lib\\site-packages (from matplotlib) (2.1.3)\n",
      "Requirement already satisfied: packaging>=20.0 in c:\\users\\shiva\\appdata\\local\\programs\\python\\python313\\lib\\site-packages (from matplotlib) (24.1)\n",
      "Requirement already satisfied: pillow>=8 in c:\\users\\shiva\\appdata\\local\\programs\\python\\python313\\lib\\site-packages (from matplotlib) (11.0.0)\n",
      "Requirement already satisfied: pyparsing>=2.3.1 in c:\\users\\shiva\\appdata\\local\\programs\\python\\python313\\lib\\site-packages (from matplotlib) (3.2.0)\n",
      "Requirement already satisfied: python-dateutil>=2.7 in c:\\users\\shiva\\appdata\\local\\programs\\python\\python313\\lib\\site-packages (from matplotlib) (2.9.0.post0)\n",
      "Requirement already satisfied: pytz>=2020.1 in c:\\users\\shiva\\appdata\\local\\programs\\python\\python313\\lib\\site-packages (from pandas) (2024.2)\n",
      "Requirement already satisfied: tzdata>=2022.7 in c:\\users\\shiva\\appdata\\local\\programs\\python\\python313\\lib\\site-packages (from pandas) (2024.2)\n",
      "Requirement already satisfied: six>=1.5 in c:\\users\\shiva\\appdata\\local\\programs\\python\\python313\\lib\\site-packages (from python-dateutil>=2.7->matplotlib) (1.16.0)\n"
     ]
    },
    {
     "name": "stderr",
     "output_type": "stream",
     "text": [
      "\n",
      "[notice] A new release of pip is available: 24.3.1 -> 25.0\n",
      "[notice] To update, run: python.exe -m pip install --upgrade pip\n"
     ]
    }
   ],
   "source": [
    "!pip install matplotlib pandas\n"
   ]
  },
  {
   "cell_type": "code",
   "execution_count": null,
   "id": "68dff8fc-357f-466b-9e4c-d89b906b7299",
   "metadata": {},
   "outputs": [],
   "source": []
  }
 ],
 "metadata": {
  "kernelspec": {
   "display_name": "Python 3 (ipykernel)",
   "language": "python",
   "name": "python3"
  },
  "language_info": {
   "codemirror_mode": {
    "name": "ipython",
    "version": 3
   },
   "file_extension": ".py",
   "mimetype": "text/x-python",
   "name": "python",
   "nbconvert_exporter": "python",
   "pygments_lexer": "ipython3",
   "version": "3.13.0"
  }
 },
 "nbformat": 4,
 "nbformat_minor": 5
}
